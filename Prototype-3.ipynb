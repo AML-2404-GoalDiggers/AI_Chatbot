{
 "cells": [
  {
   "cell_type": "markdown",
   "id": "312be941",
   "metadata": {},
   "source": [
    "## Importing files"
   ]
  },
  {
   "cell_type": "code",
   "execution_count": 129,
   "id": "ac108012",
   "metadata": {},
   "outputs": [],
   "source": [
    "import nltk\n",
    "import random\n",
    "from nltk.corpus import stopwords\n",
    "from nltk.stem import WordNetLemmatizer\n",
    "from nltk.tokenize import word_tokenize\n",
    "import string\n",
    "from nltk import word_tokenize, sent_tokenize\n",
    "from nltk.lm import MLE\n",
    "from nltk.lm.preprocessing import padded_everygram_pipeline\n",
    "from random import choice\n",
    "from nltk import bigrams, FreqDist\n",
    "from nltk.util import ngrams"
   ]
  },
  {
   "cell_type": "markdown",
   "id": "f409824d",
   "metadata": {},
   "source": [
    "## Data Pre-processing function"
   ]
  },
  {
   "cell_type": "code",
   "execution_count": 119,
   "id": "1b5a17ae",
   "metadata": {},
   "outputs": [],
   "source": [
    "# Data preprocessing\n",
    "\n",
    "def preprocess_text_file(file_path):\n",
    "    # Read the text file\n",
    "    with open(file_path, 'r') as file:\n",
    "        text = file.read()\n",
    "\n",
    "    # Convert the text to lowercase\n",
    "    text = text.lower()\n",
    "\n",
    "    # Remove punctuation\n",
    "    text = text.translate(str.maketrans(\"\", \"\", string.punctuation))\n",
    "\n",
    "    # Tokenize the text into words or tokens\n",
    "    tokens = word_tokenize(text)\n",
    "\n",
    "    # Remove stop words\n",
    "    stop_words = set(stopwords.words('english'))\n",
    "    tokens = [token for token in tokens if token not in stop_words]\n",
    "\n",
    "    # Perform lemmatization\n",
    "    lemmatizer = WordNetLemmatizer()\n",
    "    tokens = [lemmatizer.lemmatize(token) for token in tokens]\n",
    "\n",
    "    # Remove numbers or digits\n",
    "    tokens = [token for token in tokens if not token.isdigit()]\n",
    "\n",
    "    # Remove short words\n",
    "    tokens = [token for token in tokens if len(token) > 2]\n",
    "\n",
    "    # Rejoin tokens into a normalized text\n",
    "    normalized_text = ' '.join(tokens)\n",
    "\n",
    "    return normalized_text\n",
    "\n",
    "normalized_text =preprocess_text_file('data.txt.txt')"
   ]
  },
  {
   "cell_type": "code",
   "execution_count": 120,
   "id": "72b7abaa",
   "metadata": {},
   "outputs": [
    {
     "data": {
      "text/plain": [
       "'natural language processing nlp field artificial intelligence focus interaction computer human language combine technique linguistics computer science machine learning enable machine understand interpret generate human language nlp revolutionized various application including machine translation sentiment analysis chatbots information retrieval here 500word text providing overview nlp natural language processing nlp branch artificial intelligence deal interaction computer human language aim enable computer understand interpret respond human language meaningful way one fundamental challenge nlp ambiguity complexity natural language human language exhibit wide range variation including different dialect slang idiom cultural reference additionally word often multiple meaning context play crucial role understanding intended sense tackle challenge nlp employ various technique algorithm one key component text preprocessing involves task like tokenization stemming partofspeech tagging tokenization break text individual word token stemming reduces word root form handle variation partofspeech tagging assigns grammatical tag word aiding syntactic analysis another important area nlp named entity recognition ner identifies classifies named entity name organization location text information useful task like information extraction question answering system nlp also encompasses task like sentiment analysis aim determine sentiment emotion expressed piece text application social medium monitoring brand reputation analysis customer feedback analysis sentiment analysis employ machine learning algorithm classify text positive negative neutral sentiment machine translation another prominent application nlp involves automatic translation text one language another statistical neural machine translation model made significant advancement recent year enabling accurate translation across different language pair question answering system leverage nlp technique understand question posed user provide relevant answer system seen virtual assistant like siri alexa interpret user query retrieve information large knowledge base generate appropriate response text summarization another area nlp play crucial role aim condense long document article shorter coherent summary retaining essential information extractive summarization technique identify extract important sentence phrase source text abstractive method generate summary paraphrasing restructuring content nlp also find application information retrieval text classification information retrieval system employ technique like keyword matching relevance ranking retrieve relevant document based user query text classification algorithm categorize text predefined category allowing automated organization analysis large volume text data recent advancement deep learning significant impact nlp model like recurrent neural network rnns transformer achieved stateoftheart performance task language modeling machine translation text generation model capture complex pattern dependency language data enabling accurate nuanced language processing conclusion nlp fascinating rapidly evolving field focus enabling computer understand process human language application span wide range domain including machine translation sentiment analysis question answering information retrieval nlp continues advance hold potential revolutionize interact technology enhance capability various system'"
      ]
     },
     "execution_count": 120,
     "metadata": {},
     "output_type": "execute_result"
    }
   ],
   "source": [
    "normalized_text"
   ]
  },
  {
   "cell_type": "markdown",
   "id": "42ad2354",
   "metadata": {},
   "source": [
    "## Data Preperation "
   ]
  },
  {
   "cell_type": "code",
   "execution_count": 122,
   "id": "9b371561",
   "metadata": {},
   "outputs": [],
   "source": [
    "#Prepare the dataset\n",
    "\n",
    "old_text = normalized_text\n",
    "new_text = \"your_new_text_data\"\n",
    "combined_text = old_text + \" \" + new_text"
   ]
  },
  {
   "cell_type": "code",
   "execution_count": 123,
   "id": "677bb1da",
   "metadata": {},
   "outputs": [],
   "source": [
    "# Tokenize the text\n",
    "\n",
    "sent_tokens = sent_tokenize(combined_text)\n",
    "word_tokens = [word_tokenize(t) for t in sent_tokens]"
   ]
  },
  {
   "cell_type": "markdown",
   "id": "7540ca11",
   "metadata": {},
   "source": [
    "## Trigram Model"
   ]
  },
  {
   "cell_type": "code",
   "execution_count": 124,
   "id": "37ea3213",
   "metadata": {},
   "outputs": [],
   "source": [
    "#Create a trigram model\n",
    "\n",
    "n = 3\n",
    "train_data, padded_sents = padded_everygram_pipeline(n, word_tokens)"
   ]
  },
  {
   "cell_type": "code",
   "execution_count": 125,
   "id": "48eccd9b",
   "metadata": {},
   "outputs": [],
   "source": [
    "#Train the model with more text\n",
    "\n",
    "model = MLE(n)\n",
    "model.fit(train_data, padded_sents)"
   ]
  },
  {
   "cell_type": "code",
   "execution_count": 126,
   "id": "80bf1637",
   "metadata": {},
   "outputs": [],
   "source": [
    "#Generate text with various questions\n",
    "\n",
    "def generate_text(prompt, num_words, model):\n",
    "    word_list = model.generate(num_words, text_seed=prompt.split())\n",
    "    response = ' '.join(word_list)\n",
    "    return response"
   ]
  },
  {
   "cell_type": "code",
   "execution_count": 127,
   "id": "a311f9ac",
   "metadata": {},
   "outputs": [],
   "source": [
    "# Example questions\n",
    "questions = [\n",
    "    \"What is the importance\",\n",
    "    \"How does it work\",\n",
    "    \"What are the benefits\",\n",
    "    \"How can I improve\",\n",
    "    \"What should I consider\"\n",
    "]"
   ]
  },
  {
   "cell_type": "code",
   "execution_count": 128,
   "id": "7de32bd0",
   "metadata": {},
   "outputs": [
    {
     "name": "stdout",
     "output_type": "stream",
     "text": [
      "Question: What is the importance\n",
      "Answer: based user query text classification information retrieval system employ technique like keyword matching relevance ranking retrieve relevant document based user\n",
      "\n",
      "\n",
      "Question: How does it work\n",
      "Answer: modeling machine translation sentiment analysis employ machine learning algorithm classify text positive negative neutral sentiment machine translation sentiment analysis aim\n",
      "\n",
      "\n",
      "Question: What are the benefits\n",
      "Answer: challenge nlp employ various technique algorithm one key component text preprocessing involves task like information extraction question answering system leverage\n",
      "\n",
      "\n",
      "Question: How can I improve\n",
      "Answer: language data enabling accurate nuanced language processing nlp branch artificial intelligence focus interaction computer human language aim enable computer understand\n",
      "\n",
      "\n",
      "Question: What should I consider\n",
      "Answer: involves automatic translation text generation model capture complex pattern dependency language data enabling accurate translation across different language pair question\n",
      "\n",
      "\n"
     ]
    }
   ],
   "source": [
    "for question in questions:\n",
    "    print(f\"Question: {question}\")\n",
    "    print(f\"Answer: {generate_text(question, 20, model)}\")\n",
    "    print(\"\\n\")"
   ]
  },
  {
   "cell_type": "markdown",
   "id": "a83611d7",
   "metadata": {},
   "source": [
    "## Bi-gram Model"
   ]
  },
  {
   "cell_type": "code",
   "execution_count": 130,
   "id": "668fce96",
   "metadata": {},
   "outputs": [],
   "source": [
    "# Create a bigram model:\n",
    "\n",
    "# Generate bigrams and their frequency distribution\n",
    "bigrams = list(ngrams(tokens, 2))\n",
    "bigram_freq_dist = FreqDist(bigrams)\n",
    "\n",
    "# Prepare the dataset for training\n",
    "train_data, padded_sents = padded_everygram_pipeline(2, word_tokens)\n"
   ]
  },
  {
   "cell_type": "code",
   "execution_count": 131,
   "id": "d47c800c",
   "metadata": {},
   "outputs": [],
   "source": [
    "# Train the bigram model\n",
    "model = MLE(2)\n",
    "model.fit(train_data, padded_sents)"
   ]
  },
  {
   "cell_type": "code",
   "execution_count": 132,
   "id": "bf746343",
   "metadata": {},
   "outputs": [],
   "source": [
    "# Generate text based on user inputs:\n",
    "def generate_sentence(model, num_words, seed_word):\n",
    "    sentence = [seed_word]\n",
    "    for _ in range(num_words - 1):\n",
    "        next_word = model.generate(1, text_seed=sentence)\n",
    "        sentence.append(next_word)\n",
    "\n",
    "    return ' '.join(sentence)"
   ]
  },
  {
   "cell_type": "code",
   "execution_count": 133,
   "id": "65bfd037",
   "metadata": {},
   "outputs": [],
   "source": [
    "# Example questions to the model\n",
    "questions = [\n",
    "    \"What is natural language processing?\",\n",
    "    \"How does artificial intelligence relate to linguistics?\",\n",
    "    \"Can computers understand human language?\",\n",
    "]"
   ]
  },
  {
   "cell_type": "code",
   "execution_count": 135,
   "id": "325be865",
   "metadata": {},
   "outputs": [
    {
     "name": "stdout",
     "output_type": "stream",
     "text": [
      "Q: What is natural language processing?\n",
      "A: What focus interaction computer human language pair question answering system your_new_text_data </s> neural machine translation sentiment analysis chatbots information large volume text application social medium monitoring brand reputation analysis employ\n",
      "\n",
      "Q: How does artificial intelligence relate to linguistics?\n",
      "A: artificial intelligence focus enabling accurate translation across different dialect slang idiom cultural reference additionally word token stemming partofspeech tagging tokenization break text positive negative neutral sentiment analysis large knowledge base\n",
      "\n",
      "Q: Can computers understand human language?\n",
      "A: computers machine translation sentiment analysis customer feedback analysis another prominent application including machine learning enable computer human language nlp technique identify extract important area nlp continues advance hold potential revolutionize\n",
      "\n"
     ]
    }
   ],
   "source": [
    "# Generate answers for the questions\n",
    "for question in questions:\n",
    "    tokens = nltk.word_tokenize(question)\n",
    "    seed_word = choice(tokens)\n",
    "    generated_sentence = generate_sentence(model, 30, seed_word)\n",
    "    print(f\"Q: {question}\\nA: {generated_sentence}\\n\")"
   ]
  },
  {
   "cell_type": "code",
   "execution_count": null,
   "id": "c94800df",
   "metadata": {},
   "outputs": [],
   "source": []
  }
 ],
 "metadata": {
  "kernelspec": {
   "display_name": "Python 3 (ipykernel)",
   "language": "python",
   "name": "python3"
  },
  "language_info": {
   "codemirror_mode": {
    "name": "ipython",
    "version": 3
   },
   "file_extension": ".py",
   "mimetype": "text/x-python",
   "name": "python",
   "nbconvert_exporter": "python",
   "pygments_lexer": "ipython3",
   "version": "3.9.7"
  }
 },
 "nbformat": 4,
 "nbformat_minor": 5
}
